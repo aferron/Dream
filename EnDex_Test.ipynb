{
  "nbformat": 4,
  "nbformat_minor": 0,
  "metadata": {
    "colab": {
      "provenance": [],
      "include_colab_link": true
    },
    "kernelspec": {
      "name": "python3",
      "display_name": "Python 3"
    },
    "language_info": {
      "name": "python"
    }
  },
  "cells": [
    {
      "cell_type": "markdown",
      "metadata": {
        "id": "view-in-github",
        "colab_type": "text"
      },
      "source": [
        "<a href=\"https://colab.research.google.com/github/aferron/Dream/blob/main/EnDex_Test.ipynb\" target=\"_parent\"><img src=\"https://colab.research.google.com/assets/colab-badge.svg\" alt=\"Open In Colab\"/></a>"
      ]
    },
    {
      "cell_type": "markdown",
      "source": [
        "As a demo, this notebook will be set up with a runnable version of the EnDex evaluation model. The model data will be uploaded into the shared drive so that it can be accessed here. "
      ],
      "metadata": {
        "id": "H0aJbUJjpziW"
      }
    },
    {
      "cell_type": "markdown",
      "source": [
        "Connecting to the drive folder:"
      ],
      "metadata": {
        "id": "To5BeB79t7oW"
      }
    },
    {
      "cell_type": "code",
      "source": [
        "from google.colab import drive\n",
        "drive.mount('/content/drive')"
      ],
      "metadata": {
        "colab": {
          "base_uri": "https://localhost:8080/"
        },
        "id": "c_Vu8fAUt_o6",
        "outputId": "f4d12424-434b-4c43-f3b8-60c7a596e546"
      },
      "execution_count": null,
      "outputs": [
        {
          "output_type": "stream",
          "name": "stdout",
          "text": [
            "Drive already mounted at /content/drive; to attempt to forcibly remount, call drive.mount(\"/content/drive\", force_remount=True).\n"
          ]
        }
      ]
    },
    {
      "cell_type": "markdown",
      "source": [
        "Requirements block:"
      ],
      "metadata": {
        "id": "yXMpTwPCqS3U"
      }
    },
    {
      "cell_type": "code",
      "execution_count": null,
      "metadata": {
        "id": "nzR9FUsVpSP0"
      },
      "outputs": [],
      "source": [
        "!python --version\n",
        "\n",
        "!pip install torch==1.10.1 torchvision==0.11.2 torchaudio==0.10.1\n",
        "!pip install transformers==4.14.0"
      ]
    },
    {
      "cell_type": "markdown",
      "source": [
        "The sample code provided by the EnDex team to run the model:"
      ],
      "metadata": {
        "id": "WXEuA1lesWxn"
      }
    },
    {
      "cell_type": "code",
      "source": [
        "metric_running: str = \"EnDexAsReleased\"\n",
        "directory_location: str = \"/content/drive/Shareddrives/DRAEM/\"\n",
        "dataset_location: str = \"Reflect/data/\"\n",
        "dataset_name: str = \"Reflect\"\n",
        "results_dir: str = \"results/\"\n",
        "name_of_dataset: str = \"organized_Reflect_9k_responses_test\"\n",
        "model_name: str = \"endex_model\"\n",
        "tokenizer_model: str = \"roberta-large\"\n",
        "results_prefix: str = \"results_summary_for_\"\n",
        "json_ext: str = '.json'\n",
        "csv_ext: str = '.csv'\n",
        "results: str = 'results'\n",
        "verbose: bool = True\n",
        "run_example: bool = False"
      ],
      "metadata": {
        "id": "9SnUlGoP15Ir"
      },
      "execution_count": 55,
      "outputs": []
    },
    {
      "cell_type": "code",
      "source": [
        "import torch\n",
        "from transformers import RobertaTokenizer,RobertaForSequenceClassification\n",
        "tokenizer = RobertaTokenizer.from_pretrained(tokenizer_model)\n",
        "model_dir = directory_location + model_name\n",
        "model = RobertaForSequenceClassification.from_pretrained(model_dir, local_files_only=True)"
      ],
      "metadata": {
        "id": "X-RUS75tsVwr"
      },
      "execution_count": null,
      "outputs": []
    },
    {
      "cell_type": "code",
      "source": [
        "if run_example:\n",
        "  inputs = tokenizer(\"it's such a great point, and i'd love to hear back on your thoughts!\", return_tensors=\"pt\")\n",
        "  with torch.no_grad():\n",
        "      logits = model(**inputs).logits\n",
        "  predicted_class_id = logits.argmax().item()\n",
        "  print('the engagingness prediction of the input sentence is: ', predicted_class_id)"
      ],
      "metadata": {
        "id": "9TPEG5tq6PGG"
      },
      "execution_count": null,
      "outputs": []
    },
    {
      "cell_type": "code",
      "source": [
        "import datetime\n",
        "import json\n",
        "import os\n",
        "from tqdm import tqdm\n",
        "\n",
        "class evaluate_data_set:\n",
        "  def __init__(self, model) -> None:\n",
        "    self.data_file = open(directory_location  + dataset_location + name_of_dataset + json_ext)\n",
        "    self.reflect_data = json.load(self.data_file)\n",
        "    self.data_file.close()\n",
        "    self.engaging_responses = 0\n",
        "    self.total = 0\n",
        "    self.total_per_dimension = [0 for i in range(6)]\n",
        "    self.engaging_per_dimension = [0 for i in range(6)]\n",
        "    now = datetime.datetime.now()\n",
        "    self.time_salt = str(now.year) + str(now.month) + str(now.day) + \"_\" + str(now.hour) + str(now.minute)\n",
        "    self.num_engaging = \"number engaging:\"\n",
        "    self.total_eval = \"total evaluated:\"\n",
        "    self.per_engaging = \"percent engaging:\"\n",
        "    self.file_path_error_msg = \"The results file path doesn't exist\"\n",
        "    self.file_error_msg = \"The results file already exists\"\n",
        "\n",
        "  def evaluate_response(self, response: str, dimension: int) -> int:\n",
        "    inputs = tokenizer(response, return_tensors=\"pt\")\n",
        "    with torch.no_grad():\n",
        "        logits = model(**inputs).logits\n",
        "    predicted_class_id = logits.argmax().item()\n",
        "    self.engaging_responses += predicted_class_id\n",
        "    self.total += 1\n",
        "    self.total_per_dimension[dimension] += 1\n",
        "    self.engaging_per_dimension[dimension] += predicted_class_id\n",
        "    return predicted_class_id\n",
        "\n",
        "  def get_result_string(self):\n",
        "    percent_engaging = self.engaging_responses/self.total\n",
        "    percent_engaging_per_dim = [0 for i in range(6)]\n",
        "    for i in range (1, 6):\n",
        "      percent_engaging_per_dim[i] = self.engaging_per_dimension[i] / self.total_per_dimension[i]\n",
        "\n",
        "    summary = self.num_engaging + str(self.engaging_responses) + '\\n' + self.total_eval + str(self.total) + '\\n' + self.per_engaging + str(percent_engaging)\n",
        "\n",
        "    csv = \",total,dim 1,dim 2,dim 3,dim 4,dim 5\\n\" + self.num_engaging + \",\" + str(self.engaging_responses)\n",
        "\n",
        "    for i in range(1, 6):\n",
        "      csv += \",\" + str(self.engaging_per_dimension[i])\n",
        "\n",
        "    csv += '\\n' + self.total_eval + \",\" + str(self.total)\n",
        "\n",
        "    for i in range(1, 6):\n",
        "      csv += ',' + str(self.total_per_dimension[i])\n",
        "\n",
        "    csv += '\\n' + self.per_engaging + \",\" + str(percent_engaging)\n",
        "\n",
        "    for i in range (1, 6):\n",
        "      csv += ',' + str(percent_engaging_per_dim[i])\n",
        "      percent_engaging_per_dim[i] = self.engaging_per_dimension[i] / self.total_per_dimension[i]\n",
        "      summary += \"\\ntotal in dimension {dim}: \".format(dim = i) + str(self.total_per_dimension[i])\n",
        "      summary += \"\\nengaging in dimension {dim}: \".format(dim = i) + str(self.engaging_per_dimension[i])\n",
        "      summary += \"\\npercent engaging in dimension {dim}: \".format(dim = i) + str(percent_engaging_per_dim[i])\n",
        "\n",
        "    summary += '\\n\\n\\n'\n",
        "\n",
        "    return (summary, csv)\n",
        "\n",
        "  def evaluate_all_reflect_responses(self) -> float:\n",
        "    results_file_path = directory_location + results_dir\n",
        "    results_file_name = results_prefix + metric_running + '_on_' + dataset_name + '_' + self.time_salt + csv_ext\n",
        "    new_data_file =  directory_location  + dataset_location + name_of_dataset + '_' + metric_running + '_' + results + '_' + self.time_salt + json_ext\n",
        "    if not os.path.exists(results_file_path):\n",
        "      print(self.file_path_error_msg)\n",
        "      exit()\n",
        "    if os.path.isfile(results_file_name):\n",
        "      print(self.file_error_msg)\n",
        "      exit()\n",
        "    for i in tqdm(self.reflect_data):\n",
        "      for num in range(1, 6):\n",
        "          for j, response in enumerate(i['responses_{num}'.format(num = num)]):\n",
        "            engagingness = self.evaluate_response(response, num)\n",
        "            response = [response, {metric_running: engagingness}]\n",
        "            i['responses_{num}'.format(num = num)][j] = response\n",
        "    if verbose:\n",
        "      print(self.reflect_data[0])\n",
        "    self.data_file = open(new_data_file, 'w')\n",
        "    self.data_file.write(json.dumps(self.reflect_data))\n",
        "    self.data_file.close()\n",
        "    results_summary = self.get_result_string()\n",
        "    if verbose:\n",
        "      print(results_summary[0])\n",
        "      print(results_summary[1])\n",
        "    results_file = open(results_file_path + results_file_name, 'x')\n",
        "    results_file.write(results_summary[1])\n",
        "    results_file.close()"
      ],
      "metadata": {
        "id": "kQJxgppYAKmy"
      },
      "execution_count": 58,
      "outputs": []
    },
    {
      "cell_type": "code",
      "source": [
        "evaluate_data_set(model).evaluate_all_reflect_responses()"
      ],
      "metadata": {
        "id": "_Atvj4te7TDJ"
      },
      "execution_count": null,
      "outputs": []
    }
  ]
}