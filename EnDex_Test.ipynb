{
  "nbformat": 4,
  "nbformat_minor": 0,
  "metadata": {
    "colab": {
      "provenance": [],
      "include_colab_link": true
    },
    "kernelspec": {
      "name": "python3",
      "display_name": "Python 3"
    },
    "language_info": {
      "name": "python"
    }
  },
  "cells": [
    {
      "cell_type": "markdown",
      "metadata": {
        "id": "view-in-github",
        "colab_type": "text"
      },
      "source": [
        "<a href=\"https://colab.research.google.com/github/aferron/Dream/blob/main/EnDex_Test.ipynb\" target=\"_parent\"><img src=\"https://colab.research.google.com/assets/colab-badge.svg\" alt=\"Open In Colab\"/></a>"
      ]
    },
    {
      "cell_type": "markdown",
      "source": [
        "As a demo, this notebook will be set up with a runnable version of the EnDex evaluation model. The model data will be uploaded into the shared drive so that it can be accessed here. "
      ],
      "metadata": {
        "id": "H0aJbUJjpziW"
      }
    },
    {
      "cell_type": "markdown",
      "source": [
        "Connecting to the drive folder:"
      ],
      "metadata": {
        "id": "To5BeB79t7oW"
      }
    },
    {
      "cell_type": "code",
      "source": [
        "from google.colab import drive\n",
        "drive.mount('/content/drive')"
      ],
      "metadata": {
        "id": "c_Vu8fAUt_o6"
      },
      "execution_count": null,
      "outputs": []
    },
    {
      "cell_type": "markdown",
      "source": [
        "Requirements block:"
      ],
      "metadata": {
        "id": "yXMpTwPCqS3U"
      }
    },
    {
      "cell_type": "code",
      "execution_count": null,
      "metadata": {
        "id": "nzR9FUsVpSP0"
      },
      "outputs": [],
      "source": [
        "!python --version\n",
        "\n",
        "!pip install torch==1.10.1 torchvision==0.11.2 torchaudio==0.10.1\n",
        "!pip install transformers==4.14.0"
      ]
    },
    {
      "cell_type": "markdown",
      "source": [
        "The sample code provided by the EnDex team to run the model:"
      ],
      "metadata": {
        "id": "WXEuA1lesWxn"
      }
    },
    {
      "cell_type": "code",
      "source": [
        "import torch\n",
        "from transformers import RobertaTokenizer,RobertaForSequenceClassification\n",
        "tokenizer = RobertaTokenizer.from_pretrained(\"roberta-large\")\n",
        "model_dir = '/content/drive/Shareddrives/DRAEM/endex_model'\n",
        "model = RobertaForSequenceClassification.from_pretrained(model_dir, local_files_only=True)\n",
        "inputs = tokenizer(\"it's such a great point, and i'd love to hear back on your thoughts!\", return_tensors=\"pt\")\n",
        "with torch.no_grad():\n",
        "    logits = model(**inputs).logits\n",
        "predicted_class_id = logits.argmax().item()\n",
        "print('the engagingness prediction of the input sentence is: ', predicted_class_id)\n"
      ],
      "metadata": {
        "id": "X-RUS75tsVwr"
      },
      "execution_count": null,
      "outputs": []
    },
    {
      "cell_type": "code",
      "source": [
        "import json\n",
        "from tqdm import tqdm\n",
        "\n",
        "class evaluate_data_set:\n",
        "  def __init__(self, model) -> None:\n",
        "    f = open(\"/content/drive/Shareddrives/DRAEM/Reflect/data/organized_Reflect_9k_responses.json\")\n",
        "    self.reflect_data = json.load(f)\n",
        "    f.close()\n",
        "    self.engaging_responses = 0\n",
        "    self.total = 0\n",
        "\n",
        "  def evaluate_response(self, response: str) -> None:\n",
        "    inputs = tokenizer(response, return_tensors=\"pt\")\n",
        "    with torch.no_grad():\n",
        "        logits = model(**inputs).logits\n",
        "    predicted_class_id = logits.argmax().item()\n",
        "    self.engaging_responses += predicted_class_id\n",
        "    self.total += 1\n",
        "\n",
        "  def evaluate_all_reflect_responses(self) -> float:\n",
        "    for i in tqdm(self.reflect_data):\n",
        "      for num in range(1, 6):\n",
        "        for response in i['responses_{num}'.format(num = num)]:\n",
        "          self.evaluate_response(response)\n",
        "    return self.engaging_responses/self.total"
      ],
      "metadata": {
        "id": "kQJxgppYAKmy"
      },
      "execution_count": null,
      "outputs": []
    },
    {
      "cell_type": "code",
      "source": [
        "print(evaluate_data_set(model).evaluate_all_reflect_responses())"
      ],
      "metadata": {
        "id": "_Atvj4te7TDJ"
      },
      "execution_count": null,
      "outputs": []
    }
  ]
}